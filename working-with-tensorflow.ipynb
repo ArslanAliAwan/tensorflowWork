{
 "cells": [
  {
   "cell_type": "code",
   "execution_count": 1,
   "metadata": {},
   "outputs": [],
   "source": [
    "import tensorflow as tf"
   ]
  },
  {
   "cell_type": "code",
   "execution_count": 2,
   "metadata": {},
   "outputs": [],
   "source": [
    "graph1 = tf.Graph()"
   ]
  },
  {
   "cell_type": "code",
   "execution_count": 3,
   "metadata": {},
   "outputs": [],
   "source": [
    "with graph1.as_default():\n",
    "    a = tf.constant([2],name = 'constant_a')\n",
    "    b = tf.constant([3],name = 'constant_b')"
   ]
  },
  {
   "cell_type": "code",
   "execution_count": 4,
   "metadata": {},
   "outputs": [
    {
     "data": {
      "text/plain": [
       "<tf.Tensor 'constant_a:0' shape=(1,) dtype=int32>"
      ]
     },
     "execution_count": 4,
     "metadata": {},
     "output_type": "execute_result"
    }
   ],
   "source": [
    "a"
   ]
  },
  {
   "cell_type": "code",
   "execution_count": 5,
   "metadata": {},
   "outputs": [
    {
     "name": "stdout",
     "output_type": "stream",
     "text": [
      "[2]\n"
     ]
    }
   ],
   "source": [
    "session = tf.Session(graph = graph1)\n",
    "result = session.run(a)\n",
    "print(result)\n",
    "session.close()"
   ]
  },
  {
   "cell_type": "code",
   "execution_count": 6,
   "metadata": {},
   "outputs": [
    {
     "name": "stdout",
     "output_type": "stream",
     "text": [
      "[3]\n"
     ]
    }
   ],
   "source": [
    "session = tf.Session(graph = graph1)\n",
    "result = session.run(b)\n",
    "print(result)\n",
    "session.close()"
   ]
  },
  {
   "cell_type": "code",
   "execution_count": 7,
   "metadata": {},
   "outputs": [
    {
     "name": "stdout",
     "output_type": "stream",
     "text": [
      "(array([2], dtype=int32), array([3], dtype=int32))\n"
     ]
    }
   ],
   "source": [
    "session = tf.Session(graph= graph1)\n",
    "result = session.run((a,b))\n",
    "print(result)\n",
    "session.close()"
   ]
  },
  {
   "cell_type": "code",
   "execution_count": 8,
   "metadata": {},
   "outputs": [
    {
     "name": "stdout",
     "output_type": "stream",
     "text": [
      "[5]\n"
     ]
    }
   ],
   "source": [
    "with graph1.as_default():\n",
    "    c = tf.add(a,b)\n",
    "session = tf.Session(graph = graph1)\n",
    "result = session.run(c)\n",
    "print(result)\n",
    "session.close()    "
   ]
  },
  {
   "cell_type": "code",
   "execution_count": 9,
   "metadata": {},
   "outputs": [
    {
     "name": "stdout",
     "output_type": "stream",
     "text": [
      "Tensor(\"Add_1:0\", shape=(1,), dtype=int32)\n"
     ]
    }
   ],
   "source": [
    "#without closing the session each time manually\n",
    "with graph1.as_default():\n",
    "    c = tf.add(a,b)\n",
    "\n",
    "with tf.Session(graph = graph1) as session:\n",
    "    \n",
    "    result = session.run(c)\n",
    "    print(c)"
   ]
  },
  {
   "cell_type": "code",
   "execution_count": 25,
   "metadata": {},
   "outputs": [
    {
     "name": "stdout",
     "output_type": "stream",
     "text": [
      "Scalar (1 entry):\n",
      " [2] \n",
      "\n",
      "Vector (1 entry):\n",
      " [1 2 3] \n",
      "\n",
      "Matrix (1 entry):\n",
      " [[1 2 3]\n",
      " [2 3 4]\n",
      " [3 4 5]] \n",
      "\n",
      "Tensor (3x3x3 entries) :\n",
      " [[[ 1  2  3]\n",
      "  [ 2  3  4]\n",
      "  [ 3  4  5]]\n",
      "\n",
      " [[ 4  5  6]\n",
      "  [ 5  6  7]\n",
      "  [ 6  7  8]]\n",
      "\n",
      " [[ 7  8  9]\n",
      "  [ 8  9 10]\n",
      "  [ 9 10 11]]] \n",
      "\n"
     ]
    }
   ],
   "source": [
    "graph2 = tf.Graph()\n",
    "with graph2.as_default():\n",
    "    Scaler = tf.constant([2])\n",
    "    Vector = tf.constant([1,2,3])\n",
    "    Matrix = tf.constant([[1,2,3],[2,3,4],[3,4,5]])\n",
    "    Tensor = tf.constant( [ [[1,2,3],[2,3,4],[3,4,5]] , [[4,5,6],[5,6,7],[6,7,8]] , [[7,8,9],[8,9,10],[9,10,11]] ] )\n",
    "with tf.Session(graph= graph2) as session:\n",
    "    result = session.run(Scaler)\n",
    "    print(\"Scalar (1 entry):\\n %s \\n\" % result)\n",
    "    result = session.run(Vector)\n",
    "    print(\"Vector (1 entry):\\n %s \\n\" % result)\n",
    "    result = session.run(Matrix)\n",
    "    print(\"Matrix (1 entry):\\n %s \\n\" % result)\n",
    "    result = session.run(Tensor)\n",
    "    print (\"Tensor (3x3x3 entries) :\\n %s \\n\" % result)"
   ]
  },
  {
   "cell_type": "code",
   "execution_count": 35,
   "metadata": {},
   "outputs": [
    {
     "name": "stdout",
     "output_type": "stream",
     "text": [
      "[[ 4 10 18]\n",
      " [10 18 28]\n",
      " [18 28 40]]\n"
     ]
    }
   ],
   "source": [
    "graph3 = tf.Graph()\n",
    "with graph3.as_default():\n",
    "    Matrix_one  = tf.constant([[1,2,3],[2,3,4],[3,4,5]])\n",
    "    Matrix_two  = tf.constant([[4,5,6],[5,6,7],[6,7,8]])\n",
    "    add_operation = tf.add(Matrix_one, Matrix_two)\n",
    "    mul_operation = Matrix_one * Matrix_two\n",
    "    sub_operation = tf.subtract(Matrix_one, Matrix_two)\n",
    "    \n",
    "with tf.Session(graph = graph3) as session:\n",
    "    result = session.run(mul_operation)\n",
    "    print(result)\n",
    "    "
   ]
  },
  {
   "cell_type": "code",
   "execution_count": null,
   "metadata": {},
   "outputs": [],
   "source": []
  },
  {
   "cell_type": "code",
   "execution_count": null,
   "metadata": {},
   "outputs": [],
   "source": []
  }
 ],
 "metadata": {
  "kernelspec": {
   "display_name": "Python 3",
   "language": "python",
   "name": "python3"
  },
  "language_info": {
   "codemirror_mode": {
    "name": "ipython",
    "version": 3
   },
   "file_extension": ".py",
   "mimetype": "text/x-python",
   "name": "python",
   "nbconvert_exporter": "python",
   "pygments_lexer": "ipython3",
   "version": "3.7.0"
  }
 },
 "nbformat": 4,
 "nbformat_minor": 2
}
